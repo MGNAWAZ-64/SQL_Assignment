{
 "cells": [
  {
   "cell_type": "code",
   "execution_count": null,
   "id": "ebe5d8f8-d983-4c94-9705-96bd4cbabf55",
   "metadata": {},
   "outputs": [],
   "source": [
    "1. Relational Database Management System (RDBMS)\n",
    "A Relational Database Management System (RDBMS) organizes data into structured tables (relations) with rows and columns. It enforces relationships between tables using keys (e.g., primary and foreign keys) and ensures data integrity through constraints. Examples include MySQL, PostgreSQL, and Oracle.\n",
    "\n",
    "Advantages of DBMS over File System\n",
    "\n",
    "Reduced Redundancy: Eliminates duplicate data via normalization.\n",
    "\n",
    "Data Integrity: Constraints (e.g., primary keys, unique) maintain accuracy.\n",
    "\n",
    "Concurrent Access: Supports multiple users with transaction control.\n",
    "\n",
    "Security: User permissions and encryption protect data.\n",
    "\n",
    "Query Efficiency: SQL allows complex data retrieval.\n",
    "\n"
   ]
  },
  {
   "cell_type": "code",
   "execution_count": null,
   "id": "a7dd00ac-6358-4783-b723-73ad6a2a0c9d",
   "metadata": {},
   "outputs": [],
   "source": [
    "2. ACID Properties\n",
    "\n",
    "Atomicity: Transactions are all-or-nothing (e.g., transferring money: debit and credit must both succeed).\n",
    "\n",
    "Consistency: Transactions move the database from one valid state to another (e.g., account balances cannot be negative).\n",
    "\n",
    "Isolation: Concurrent transactions don’t interfere (e.g., two users updating the same data see changes sequentially).\n",
    "\n",
    "Durability: Committed transactions survive system failures (e.g., data is saved to disk)."
   ]
  },
  {
   "cell_type": "code",
   "execution_count": null,
   "id": "a090bc4b-8b2a-411a-97e2-77ab306178de",
   "metadata": {},
   "outputs": [],
   "source": [
    "#: Normalization\n",
    "Normalization structures data to minimize redundancy and dependency. Common forms:\n",
    "\n",
    "1NF: Eliminate repeating groups (e.g., split a \"Phone Numbers\" list into separate rows).\n",
    "\n",
    "2NF: Remove partial dependencies (e.g., ensure non-key columns depend on the entire primary key).\n",
    "\n",
    "3NF: Remove transitive dependencies (e.g., non-key columns shouldn’t depend on other non-key columns)."
   ]
  },
  {
   "cell_type": "code",
   "execution_count": null,
   "id": "aa38b6ed-229b-41f5-aa3f-5e07733a6a8a",
   "metadata": {},
   "outputs": [],
   "source": [
    "4. Types of Query Languages\n",
    "\n",
    "DDL (Data Definition Language): Defines schema (e.g., CREATE TABLE, ALTER, DROP).\n",
    "\n",
    "DML (Data Manipulation Language): Manages data (e.g., INSERT, UPDATE, DELETE).\n",
    "\n",
    "DQL (Data Query Language): Retrieves data (e.g., SELECT).\n",
    "\n",
    "DCL (Data Control Language): Manages access (e.g., GRANT, REVOKE)."
   ]
  },
  {
   "cell_type": "code",
   "execution_count": null,
   "id": "60432958-8855-41ee-aaf0-343e1a47e2c2",
   "metadata": {},
   "outputs": [],
   "source": [
    "5. Primary Key vs. Composite Key\n",
    "\n",
    "Primary Key: A single column that uniquely identifies rows (e.g., StudentID in a Students table).\n",
    "\n",
    "Composite Key: Multiple columns combined to uniquely identify rows (e.g., OrderID + ProductID in an OrderDetails table).\n"
   ]
  },
  {
   "cell_type": "code",
   "execution_count": null,
   "id": "d0080edd-4581-4c67-b6b0-a59621fcd145",
   "metadata": {},
   "outputs": [],
   "source": [
    "6. SQL Table Creation Example\n",
    "\n",
    "sql\n",
    "\n",
    "CREATE TABLE Users (\n",
    "    UserID INT PRIMARY KEY,\n",
    "    Username VARCHAR(50) UNIQUE NOT NULL,\n",
    "    JoinDate DATE DEFAULT CURRENT_DATE,\n",
    "    Email VARCHAR(100) UNIQUE\n",
    ");"
   ]
  },
  {
   "cell_type": "code",
   "execution_count": null,
   "id": "52d4b340-6397-4490-a7e3-9c632ce684eb",
   "metadata": {},
   "outputs": [],
   "source": [
    "Primary Key: UserID uniquely identifies each user.\n",
    "\n",
    "Unique Constraint: Username and Email ensure no duplicates.\n",
    "\n",
    "Default Value: JoinDate auto-populates with the current date."
   ]
  }
 ],
 "metadata": {
  "kernelspec": {
   "display_name": "Python [conda env:base] *",
   "language": "python",
   "name": "conda-base-py"
  },
  "language_info": {
   "codemirror_mode": {
    "name": "ipython",
    "version": 3
   },
   "file_extension": ".py",
   "mimetype": "text/x-python",
   "name": "python",
   "nbconvert_exporter": "python",
   "pygments_lexer": "ipython3",
   "version": "3.11.5"
  }
 },
 "nbformat": 4,
 "nbformat_minor": 5
}
